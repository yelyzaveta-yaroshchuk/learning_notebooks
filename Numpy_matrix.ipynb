{
  "nbformat": 4,
  "nbformat_minor": 0,
  "metadata": {
    "colab": {
      "provenance": []
    },
    "kernelspec": {
      "name": "python3",
      "display_name": "Python 3"
    },
    "language_info": {
      "name": "python"
    }
  },
  "cells": [
    {
      "cell_type": "code",
      "execution_count": 64,
      "metadata": {
        "id": "25QgvaP-ZIb-"
      },
      "outputs": [],
      "source": [
        "import numpy as np"
      ]
    },
    {
      "cell_type": "code",
      "source": [
        "A=np.random.randn(1,3)\n",
        "B=np.random.randn(3,3)\n",
        "\n",
        "A = np.array([[1,1],[1,-1], [1,0]])\n",
        "\n",
        "B = np.array([[2],[3], [1]])"
      ],
      "metadata": {
        "id": "QoP_tsgHZNHD"
      },
      "execution_count": 65,
      "outputs": []
    },
    {
      "cell_type": "code",
      "source": [
        "print(A)"
      ],
      "metadata": {
        "colab": {
          "base_uri": "https://localhost:8080/"
        },
        "id": "k64G1gAf7TpW",
        "outputId": "eb996f09-7fb7-462b-d5f6-e38baf4db4f3"
      },
      "execution_count": 66,
      "outputs": [
        {
          "output_type": "stream",
          "name": "stdout",
          "text": [
            "[[ 1  1]\n",
            " [ 1 -1]\n",
            " [ 1  0]]\n"
          ]
        }
      ]
    },
    {
      "cell_type": "code",
      "source": [
        "print(B)"
      ],
      "metadata": {
        "colab": {
          "base_uri": "https://localhost:8080/"
        },
        "id": "sO6CK7vD7UWF",
        "outputId": "88babe8f-ee05-4830-aa71-3b7f4d488e89"
      },
      "execution_count": 67,
      "outputs": [
        {
          "output_type": "stream",
          "name": "stdout",
          "text": [
            "[[2]\n",
            " [3]\n",
            " [1]]\n"
          ]
        }
      ]
    },
    {
      "cell_type": "code",
      "source": [
        "# Matrix Addition\n",
        "addition = A + B\n",
        "print(\"Addition:\\n\", addition)\n"
      ],
      "metadata": {
        "colab": {
          "base_uri": "https://localhost:8080/"
        },
        "id": "hYLXESH77bC6",
        "outputId": "abbc5f76-213e-4f3e-c992-7e2f852168f3"
      },
      "execution_count": 68,
      "outputs": [
        {
          "output_type": "stream",
          "name": "stdout",
          "text": [
            "Addition:\n",
            " [[3 3]\n",
            " [4 2]\n",
            " [2 1]]\n"
          ]
        }
      ]
    },
    {
      "cell_type": "code",
      "source": [
        "# Matrix Subtraction\n",
        "subtraction = A - B\n",
        "print(\"Subtraction:\\n\", subtraction)\n"
      ],
      "metadata": {
        "colab": {
          "base_uri": "https://localhost:8080/"
        },
        "id": "QQih93AY7t22",
        "outputId": "b5a313da-f2e8-4c52-d0fd-9994b26dc83b"
      },
      "execution_count": 69,
      "outputs": [
        {
          "output_type": "stream",
          "name": "stdout",
          "text": [
            "Subtraction:\n",
            " [[-1 -1]\n",
            " [-2 -4]\n",
            " [ 0 -1]]\n"
          ]
        }
      ]
    },
    {
      "cell_type": "code",
      "source": [
        "# Element-wise Multiplication\n",
        "element_wise_mult = A * B\n",
        "print(\"Element-wise Multiplication:\\n\", element_wise_mult)\n"
      ],
      "metadata": {
        "colab": {
          "base_uri": "https://localhost:8080/"
        },
        "id": "0BonrR7cZXLk",
        "outputId": "bb9e08ed-45ce-4516-f34b-e5ec3c5e99eb"
      },
      "execution_count": 70,
      "outputs": [
        {
          "output_type": "stream",
          "name": "stdout",
          "text": [
            "Element-wise Multiplication:\n",
            " [[ 2  2]\n",
            " [ 3 -3]\n",
            " [ 1  0]]\n"
          ]
        }
      ]
    },
    {
      "cell_type": "code",
      "source": [
        "# Matrix Multiplication (Dot Product)\n",
        "# WITH CURRENT DIMENSIONS YOU`LL GET AN ERROR\n",
        "\n",
        "matrix_mult = A @ B  # or np.dot(A, B)\n",
        "print(\"Matrix Multiplication:\\n\", matrix_mult)\n"
      ],
      "metadata": {
        "id": "oYeuHXyfZZFl",
        "colab": {
          "base_uri": "https://localhost:8080/",
          "height": 193
        },
        "outputId": "67d1bc25-59f4-40ba-ca4e-2be043eb6f10"
      },
      "execution_count": 71,
      "outputs": [
        {
          "output_type": "error",
          "ename": "ValueError",
          "evalue": "matmul: Input operand 1 has a mismatch in its core dimension 0, with gufunc signature (n?,k),(k,m?)->(n?,m?) (size 3 is different from 2)",
          "traceback": [
            "\u001b[0;31m---------------------------------------------------------------------------\u001b[0m",
            "\u001b[0;31mValueError\u001b[0m                                Traceback (most recent call last)",
            "\u001b[0;32m<ipython-input-71-62b0c31de89c>\u001b[0m in \u001b[0;36m<cell line: 0>\u001b[0;34m()\u001b[0m\n\u001b[1;32m      2\u001b[0m \u001b[0;31m# WITH CURRENT DIMENSIONS YOU`LL GET AN ERROR\u001b[0m\u001b[0;34m\u001b[0m\u001b[0;34m\u001b[0m\u001b[0m\n\u001b[1;32m      3\u001b[0m \u001b[0;34m\u001b[0m\u001b[0m\n\u001b[0;32m----> 4\u001b[0;31m \u001b[0mmatrix_mult\u001b[0m \u001b[0;34m=\u001b[0m \u001b[0mA\u001b[0m \u001b[0;34m@\u001b[0m \u001b[0mB\u001b[0m  \u001b[0;31m# or np.dot(A, B)\u001b[0m\u001b[0;34m\u001b[0m\u001b[0;34m\u001b[0m\u001b[0m\n\u001b[0m\u001b[1;32m      5\u001b[0m \u001b[0mprint\u001b[0m\u001b[0;34m(\u001b[0m\u001b[0;34m\"Matrix Multiplication:\\n\"\u001b[0m\u001b[0;34m,\u001b[0m \u001b[0mmatrix_mult\u001b[0m\u001b[0;34m)\u001b[0m\u001b[0;34m\u001b[0m\u001b[0;34m\u001b[0m\u001b[0m\n",
            "\u001b[0;31mValueError\u001b[0m: matmul: Input operand 1 has a mismatch in its core dimension 0, with gufunc signature (n?,k),(k,m?)->(n?,m?) (size 3 is different from 2)"
          ]
        }
      ]
    },
    {
      "cell_type": "code",
      "source": [
        "# LET`s CHANGE DIMENSIONS\n",
        "\n",
        "C = np.array([[1, 1, -1]])\n",
        "\n",
        "D = np.array([[2,3,4],[5,6,7], [8,9,0]])\n",
        "print(C, '\\n')\n",
        "print(D, '\\n')\n",
        "matrix_mult = C @ D # or np.dot(C, D)\n",
        "print(\"Matrix Multiplication:\\n\", matrix_mult)\n",
        "print('Calculation logic is \\n 1*2 + 1*3 + -1*4 = -1 ; \\n 1*5 + 1*6 + -1*7 = 0 ; \\n 1*8 + 1*9 + -1*0 = 11 ')"
      ],
      "metadata": {
        "colab": {
          "base_uri": "https://localhost:8080/"
        },
        "id": "V-uBl4238eRX",
        "outputId": "5393fbc8-98e9-4fbd-89ec-9335a2dfcb9e"
      },
      "execution_count": 72,
      "outputs": [
        {
          "output_type": "stream",
          "name": "stdout",
          "text": [
            "[[ 1  1 -1]] \n",
            "\n",
            "[[2 3 4]\n",
            " [5 6 7]\n",
            " [8 9 0]] \n",
            "\n",
            "Matrix Multiplication:\n",
            " [[-1  0 11]]\n",
            "Calculation logic is \n",
            " 1*2 + 1*3 + -1*4 = -1 ; \n",
            " 1*5 + 1*6 + -1*7 = 0 ; \n",
            " 1*8 + 1*9 + -1*0 = 11 \n"
          ]
        }
      ]
    },
    {
      "cell_type": "code",
      "source": [
        "# Transpose of a Matrix\n",
        "transpose_A = A.T\n",
        "print(\" Matrix A:\\n\", A, '\\n')\n",
        "print(\"Transpose of A:\\n\", transpose_A)"
      ],
      "metadata": {
        "colab": {
          "base_uri": "https://localhost:8080/"
        },
        "id": "VB-bdxK2-cG7",
        "outputId": "42bd9d4a-6bc6-4395-e0aa-72b705f55e7f"
      },
      "execution_count": 73,
      "outputs": [
        {
          "output_type": "stream",
          "name": "stdout",
          "text": [
            " Matrix A:\n",
            " [[ 1  1]\n",
            " [ 1 -1]\n",
            " [ 1  0]] \n",
            "\n",
            "Transpose of A:\n",
            " [[ 1  1  1]\n",
            " [ 1 -1  0]]\n"
          ]
        }
      ]
    },
    {
      "cell_type": "markdown",
      "source": [
        "**Determinant of a Matrix**\n",
        "The determinant of a square matrix is a scalar value that provides key insights into the matrix's properties. It is denoted as det(A) or |A|.\n",
        "\n",
        "Uses of Determinant\n",
        "Invertibility: If det(A) ≠ 0, the matrix is invertible; otherwise, it's singular (non-invertible).\n",
        "\n",
        "Solving Linear Systems: Used in Cramer's rule to solve Ax = B.\n",
        "\n",
        "Geometric Interpretation: Represents the scaling factor of transformation (e.g., area in 2D, volume in 3D).\n",
        "\n",
        "Eigenvalues & Stability: Helps analyze system stability in differential equations.\n",
        "\n"
      ],
      "metadata": {
        "id": "y5LQRDpu_XLi"
      }
    },
    {
      "cell_type": "code",
      "source": [
        "# Determinant of a Matrix\n",
        "# ONLY SQUARED MATRIX\n",
        "\n",
        "D = np.array([[2,3,4],[5,6,7], [8,9,0]])\n",
        "det_D = np.linalg.det(D)\n",
        "print(\"Determinant of A:\", det_D)"
      ],
      "metadata": {
        "colab": {
          "base_uri": "https://localhost:8080/"
        },
        "id": "qpx_Kz2M-q1W",
        "outputId": "39ea85d4-6272-4d40-b46a-26cc177fb104"
      },
      "execution_count": 74,
      "outputs": [
        {
          "output_type": "stream",
          "name": "stdout",
          "text": [
            "Determinant of A: 29.99999999999999\n"
          ]
        }
      ]
    },
    {
      "cell_type": "code",
      "source": [
        "# Inverse of a Matrix\n",
        "inverse_D = np.linalg.inv(D) if det_D != 0 else \"Not invertible\"\n",
        "print(\"Inverse of D:\\n\", inverse_D)"
      ],
      "metadata": {
        "colab": {
          "base_uri": "https://localhost:8080/"
        },
        "id": "qN48Vzrk_ejC",
        "outputId": "e5b1f01a-1cec-45af-ae96-53aad3c687be"
      },
      "execution_count": 75,
      "outputs": [
        {
          "output_type": "stream",
          "name": "stdout",
          "text": [
            "Inverse of D:\n",
            " [[-2.1         1.2        -0.1       ]\n",
            " [ 1.86666667 -1.06666667  0.2       ]\n",
            " [-0.1         0.2        -0.1       ]]\n"
          ]
        }
      ]
    },
    {
      "cell_type": "markdown",
      "source": [
        "**Eigenvalues and Eigenvectors**\n",
        "Eigenvalues and eigenvectors are fundamental concepts in linear algebra, widely used in machine learning, physics, and engineering.\n",
        "\n",
        "**Eigenvalues **(λ): Scalars that represent how a transformation scales an eigenvector.\n",
        "\n",
        "**Eigenvectors **(v): Nonzero vectors that remain in the same direction after a linear transformation.\n",
        "\n",
        "Mathematically, they satisfy the equation:\n",
        "\n",
        "𝐴𝑣=𝜆𝑣\n",
        "where:\n",
        "\n",
        "𝐴 is a square matrix,\n",
        "𝑣 is an eigenvector,\n",
        "𝜆 is the corresponding eigenvalue.\n",
        "\n",
        "**Uses of Eigenvalues and Eigenvectors**\n",
        "Dimensionality Reduction (e.g., PCA in machine learning).\n",
        "\n",
        "*   Stability Analysis (in differential equations and dynamical systems).\n",
        "*   Graph Theory (e.g., Google's PageRank algorithm).\n",
        "*   Quantum Mechanics (e.g., representing quantum states).\n"
      ],
      "metadata": {
        "id": "_CWByPDZALUE"
      }
    },
    {
      "cell_type": "code",
      "source": [
        "# Eigenvalues and Eigenvectors\n",
        "eigenvalues, eigenvectors = np.linalg.eig(D)\n",
        "print(\"Eigenvalues of D:\", eigenvalues, '\\n')\n",
        "print(\"Eigenvectors of D:\\n\", eigenvectors)"
      ],
      "metadata": {
        "colab": {
          "base_uri": "https://localhost:8080/"
        },
        "id": "6MTu-v5C_u5b",
        "outputId": "23e6e254-ea1c-4d1e-9a75-2bb5220709e9"
      },
      "execution_count": 76,
      "outputs": [
        {
          "output_type": "stream",
          "name": "stdout",
          "text": [
            "Eigenvalues of D: [14.77176409 -0.31451499 -6.4572491 ] \n",
            "\n",
            "Eigenvectors of D:\n",
            " [[-0.35811059 -0.74454495 -0.28091893]\n",
            " [-0.69852374  0.66417004 -0.38198454]\n",
            " [-0.61953321 -0.06731242  0.88043874]]\n"
          ]
        }
      ]
    },
    {
      "cell_type": "code",
      "source": [
        "# Solving Dx = E (for a given E)\n",
        "E_col = np.array([1, 2, 3])  # Example column vector\n",
        "solution_x = np.linalg.solve(D, E_col)  # Solves Ax = B_col\n",
        "print(\"Solution to Ax = B_col:\\n\", solution_x)\n"
      ],
      "metadata": {
        "colab": {
          "base_uri": "https://localhost:8080/"
        },
        "id": "tkMMX86FAs97",
        "outputId": "6a79f16f-a845-4f38-ae19-0850add3a833"
      },
      "execution_count": 77,
      "outputs": [
        {
          "output_type": "stream",
          "name": "stdout",
          "text": [
            "Solution to Ax = B_col:\n",
            " [0.         0.33333333 0.        ]\n"
          ]
        }
      ]
    },
    {
      "cell_type": "code",
      "source": [],
      "metadata": {
        "id": "mHbC1h2aB3ee"
      },
      "execution_count": 77,
      "outputs": []
    }
  ]
}